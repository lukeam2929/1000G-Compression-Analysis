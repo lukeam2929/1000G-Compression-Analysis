{
 "cells": [
  {
   "cell_type": "code",
   "execution_count": 1,
   "metadata": {
    "collapsed": true
   },
   "outputs": [],
   "source": [
    "%matplotlib inline\n",
    "import numpy as np\n",
    "import scipy as sp\n",
    "import matplotlib as mpl\n",
    "import matplotlib.cm as cm\n",
    "import matplotlib.pyplot as plt\n",
    "import pandas as pd\n",
    "pd.set_option('display.width', 500)\n",
    "pd.set_option('display.max_columns', 100)\n",
    "pd.set_option('display.notebook_repr_html', True)\n",
    "import seaborn as sns\n",
    "sns.set_style(\"whitegrid\")\n",
    "sns.set_context(\"poster\")"
   ]
  },
  {
   "cell_type": "code",
   "execution_count": 2,
   "metadata": {
    "collapsed": true
   },
   "outputs": [],
   "source": [
    "from scipy.sparse import coo_matrix\n",
    "from scipy.sparse import csr_matrix"
   ]
  },
  {
   "cell_type": "code",
   "execution_count": 3,
   "metadata": {
    "collapsed": true
   },
   "outputs": [],
   "source": [
    "data = np.load(\"condensed_impute_hap.npy\")"
   ]
  },
  {
   "cell_type": "code",
   "execution_count": 4,
   "metadata": {
    "collapsed": false
   },
   "outputs": [
    {
     "data": {
      "text/plain": [
       "array([[array([ 803, 1026, 1239, 1705])],\n",
       "       [array([1576, 1626, 1659, 1902])],\n",
       "       [array([214])],\n",
       "       ..., \n",
       "       [array([1445])],\n",
       "       [array([1252, 1526, 1567, 1580, 1688])],\n",
       "       [ array([  10,   23,   25,   34,   38,   46,   48,   49,   52,   67,   74,\n",
       "         78,   91,  109,  119,  123,  126,  127,  143,  154,  156,  164,\n",
       "        167,  174,  176,  182,  186,  191,  192,  197,  198,  199,  201,\n",
       "        202,  205,  211,  229,  245,  252,  262,  271,  275,  284,  288,\n",
       "        313,  316,  323,  324,  326,  331,  333,  345,  348,  364,  417,\n",
       "        451,  463,  466,  480,  489,  522,  551,  571,  574,  580,  585,\n",
       "        589,  594,  605,  630,  651,  654,  659,  662,  679,  681,  683,\n",
       "        695,  701,  720,  735,  740,  741,  745,  747,  779,  781,  790,\n",
       "        797,  800,  801,  805,  816,  818,  819,  822,  823,  824,  830,\n",
       "        833,  836,  840,  842,  843,  845,  851,  855,  856,  857,  859,\n",
       "        872,  880,  881,  889,  894,  903,  910,  911,  919,  927,  932,\n",
       "        937,  942,  943,  948,  962,  964,  965,  967,  968,  983,  993,\n",
       "       1010, 1029, 1030, 1042, 1115, 1123, 1155, 1157, 1171, 1178, 1183,\n",
       "       1188, 1214, 1229, 1233, 1247, 1261, 1302, 1324, 1333, 1337, 1395,\n",
       "       1396, 1398, 1413, 1442, 1444, 1451, 1483, 1484, 1509, 1530, 1532,\n",
       "       1539, 1544, 1551, 1559, 1566, 1573, 1577, 1578, 1579, 1590, 1592,\n",
       "       1600, 1614, 1630, 1638, 1642, 1646, 1648, 1658, 1667, 1684, 1687,\n",
       "       1696, 1705, 1716, 1717, 1718, 1730, 1731, 1747, 1769, 1774, 1785,\n",
       "       1786, 1792, 1834, 1847, 1855, 1859, 1868, 1878, 1884, 1896, 1910,\n",
       "       1913, 1916, 1921, 1925, 1927, 1930, 1932, 1934, 1935, 1946, 1951,\n",
       "       1960, 1998, 2021, 2024, 2025, 2039, 2042, 2058, 2061, 2067, 2068,\n",
       "       2076, 2083, 2084, 2087, 2090, 2097, 2099, 2108, 2124, 2126, 2129,\n",
       "       2135, 2141, 2154, 2157, 2159, 2160, 2165, 2167, 2170, 2180, 2184])]], dtype=object)"
      ]
     },
     "execution_count": 4,
     "metadata": {},
     "output_type": "execute_result"
    }
   ],
   "source": [
    "data"
   ]
  },
  {
   "cell_type": "code",
   "execution_count": 17,
   "metadata": {
    "collapsed": false
   },
   "outputs": [
    {
     "data": {
      "text/plain": [
       "(824876, 1)"
      ]
     },
     "execution_count": 17,
     "metadata": {},
     "output_type": "execute_result"
    }
   ],
   "source": [
    "data.shape"
   ]
  },
  {
   "cell_type": "code",
   "execution_count": 5,
   "metadata": {
    "collapsed": false
   },
   "outputs": [
    {
     "data": {
      "text/plain": [
       "824876"
      ]
     },
     "execution_count": 5,
     "metadata": {},
     "output_type": "execute_result"
    }
   ],
   "source": [
    "len(data)"
   ]
  },
  {
   "cell_type": "code",
   "execution_count": 6,
   "metadata": {
    "collapsed": true
   },
   "outputs": [],
   "source": [
    "maxLen = max(len(p[0]) for p in data)"
   ]
  },
  {
   "cell_type": "code",
   "execution_count": 7,
   "metadata": {
    "collapsed": false
   },
   "outputs": [
    {
     "data": {
      "text/plain": [
       "2188"
      ]
     },
     "execution_count": 7,
     "metadata": {},
     "output_type": "execute_result"
    }
   ],
   "source": [
    "maxLen"
   ]
  },
  {
   "cell_type": "code",
   "execution_count": 8,
   "metadata": {
    "collapsed": false
   },
   "outputs": [],
   "source": [
    "block_lengths = []\n",
    "for p in data:\n",
    "    block_lengths.append(len(p[0]))"
   ]
  },
  {
   "cell_type": "code",
   "execution_count": 9,
   "metadata": {
    "collapsed": true
   },
   "outputs": [],
   "source": [
    "all_zero = 0\n",
    "for b in data:\n",
    "    if len(b[0]) == 0:\n",
    "        all_zero += 1"
   ]
  },
  {
   "cell_type": "code",
   "execution_count": 10,
   "metadata": {
    "collapsed": true
   },
   "outputs": [],
   "source": [
    "all_one = 0\n",
    "for b in data:\n",
    "    if len(b[0]) == maxLen:\n",
    "        all_one += 1"
   ]
  },
  {
   "cell_type": "code",
   "execution_count": 11,
   "metadata": {
    "collapsed": false
   },
   "outputs": [
    {
     "name": "stdout",
     "output_type": "stream",
     "text": [
      "6880 564\n"
     ]
    }
   ],
   "source": [
    "print all_zero, all_one"
   ]
  },
  {
   "cell_type": "code",
   "execution_count": 12,
   "metadata": {
    "collapsed": false
   },
   "outputs": [
    {
     "data": {
      "image/png": "[encoded data removed]",
      "text/plain": [
       "<matplotlib.figure.Figure at 0x104321590>"
      ]
     },
     "metadata": {},
     "output_type": "display_data"
    }
   ],
   "source": [
    "plt.hist(block_lengths, bins=50)\n",
    "plt.show()"
   ]
  },
  {
   "cell_type": "markdown",
   "metadata": {},
   "source": [
    "## try replace rows w/ all 1s w/ string indicator?"
   ]
  },
  {
   "cell_type": "code",
   "execution_count": null,
   "metadata": {
    "collapsed": false
   },
   "outputs": [],
   "source": [
    "'''\n",
    "data2 = []\n",
    "for block in data:\n",
    "    if len(block[0]) == maxLen:\n",
    "        data2.append(\"all_ones\")\n",
    "    else:\n",
    "        data2.append(block)\n",
    "np.save('full2.npy', data2)\n",
    "'''"
   ]
  },
  {
   "cell_type": "code",
   "execution_count": 14,
   "metadata": {
    "collapsed": true
   },
   "outputs": [],
   "source": [
    "data_mat = np.zeros((len(data), maxLen))"
   ]
  },
  {
   "cell_type": "code",
   "execution_count": 18,
   "metadata": {
    "collapsed": false
   },
   "outputs": [
    {
     "name": "stdout",
     "output_type": "stream",
     "text": [
      "CPU times: user 6.41 s, sys: 4.93 s, total: 11.3 s\n",
      "Wall time: 13.1 s\n"
     ]
    }
   ],
   "source": [
    "%%time\n",
    "for row in range(len(data)):\n",
    "    for col in data[row]:\n",
    "        data_mat[row,col] = 1"
   ]
  },
  {
   "cell_type": "code",
   "execution_count": 19,
   "metadata": {
    "collapsed": false
   },
   "outputs": [
    {
     "data": {
      "text/plain": [
       "array([[ 0.,  0.,  0., ...,  0.,  0.,  0.],\n",
       "       [ 0.,  0.,  0., ...,  0.,  0.,  0.],\n",
       "       [ 0.,  0.,  0., ...,  0.,  0.,  0.],\n",
       "       ..., \n",
       "       [ 0.,  0.,  0., ...,  0.,  0.,  0.],\n",
       "       [ 0.,  0.,  0., ...,  0.,  0.,  0.],\n",
       "       [ 0.,  0.,  0., ...,  0.,  0.,  0.]])"
      ]
     },
     "execution_count": 19,
     "metadata": {},
     "output_type": "execute_result"
    }
   ],
   "source": [
    "data_mat"
   ]
  },
  {
   "cell_type": "code",
   "execution_count": 29,
   "metadata": {
    "collapsed": false
   },
   "outputs": [
    {
     "data": {
      "text/plain": [
       "True"
      ]
     },
     "execution_count": 29,
     "metadata": {},
     "output_type": "execute_result"
    }
   ],
   "source": [
    "# check if matrix created correctly\n",
    "len(data[50][0]) == np.sum(data_mat[50,])"
   ]
  },
  {
   "cell_type": "markdown",
   "metadata": {},
   "source": [
    "## try converting to csc?"
   ]
  },
  {
   "cell_type": "code",
   "execution_count": 44,
   "metadata": {
    "collapsed": false
   },
   "outputs": [],
   "source": [
    "from scipy.sparse import csc_matrix"
   ]
  },
  {
   "cell_type": "code",
   "execution_count": 33,
   "metadata": {
    "collapsed": false
   },
   "outputs": [
    {
     "data": {
      "text/plain": [
       "824876"
      ]
     },
     "execution_count": 33,
     "metadata": {},
     "output_type": "execute_result"
    }
   ],
   "source": [
    "len(data_mat[:,0])"
   ]
  },
  {
   "cell_type": "code",
   "execution_count": null,
   "metadata": {
    "collapsed": false
   },
   "outputs": [],
   "source": [
    "'''\n",
    "Takes forever to run...\n",
    "\n",
    "row_indices = []\n",
    "for col in range(maxLen):\n",
    "    row_indices.append(np.nonzero(data_mat[:,col]))\n",
    "'''"
   ]
  },
  {
   "cell_type": "code",
   "execution_count": 39,
   "metadata": {
    "collapsed": false
   },
   "outputs": [
    {
     "name": "stdout",
     "output_type": "stream",
     "text": [
      "980695114\n"
     ]
    }
   ],
   "source": [
    "import os.path\n",
    "print os.path.getsize('condensed_impute_hap.npy')"
   ]
  },
  {
   "cell_type": "code",
   "execution_count": 45,
   "metadata": {
    "collapsed": true
   },
   "outputs": [],
   "source": [
    "data_mat_csc = csc_matrix(data_mat)"
   ]
  },
  {
   "cell_type": "code",
   "execution_count": 46,
   "metadata": {
    "collapsed": true
   },
   "outputs": [],
   "source": [
    "import cPickle as pickle\n",
    "with open('data_mat_csc.dat', 'wb') as outfile:\n",
    "    pickle.dump(data_mat_csc, outfile, pickle.HIGHEST_PROTOCOL)"
   ]
  },
  {
   "cell_type": "code",
   "execution_count": 47,
   "metadata": {
    "collapsed": false
   },
   "outputs": [
    {
     "name": "stdout",
     "output_type": "stream",
     "text": [
      "1432712640\n"
     ]
    }
   ],
   "source": [
    "print os.path.getsize('data_mat_csc.dat')"
   ]
  },
  {
   "cell_type": "code",
   "execution_count": null,
   "metadata": {
    "collapsed": true
   },
   "outputs": [],
   "source": []
  }
 ],
 "metadata": {
  "kernelspec": {
   "display_name": "Python 2",
   "language": "python",
   "name": "python2"
  },
  "language_info": {
   "codemirror_mode": {
    "name": "ipython",
    "version": 2
   },
   "file_extension": ".py",
   "mimetype": "text/x-python",
   "name": "python",
   "nbconvert_exporter": "python",
   "pygments_lexer": "ipython2",
   "version": "2.7.11"
  }
 },
 "nbformat": 4,
 "nbformat_minor": 0
}
